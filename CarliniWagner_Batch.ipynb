{
  "nbformat": 4,
  "nbformat_minor": 0,
  "metadata": {
    "kernelspec": {
      "display_name": "Python 3",
      "language": "python",
      "name": "python3"
    },
    "language_info": {
      "codemirror_mode": {
        "name": "ipython",
        "version": 3
      },
      "file_extension": ".py",
      "mimetype": "text/x-python",
      "name": "python",
      "nbconvert_exporter": "python",
      "pygments_lexer": "ipython3",
      "version": "3.8.1"
    },
    "colab": {
      "name": "CarliniWagner_Batch.ipynb",
      "provenance": [],
      "collapsed_sections": []
    },
    "accelerator": "GPU",
    "widgets": {
      "application/vnd.jupyter.widget-state+json": {
        "f00afc88f65a43168cc502059ea05db4": {
          "model_module": "@jupyter-widgets/controls",
          "model_name": "HBoxModel",
          "state": {
            "_view_name": "HBoxView",
            "_dom_classes": [],
            "_model_name": "HBoxModel",
            "_view_module": "@jupyter-widgets/controls",
            "_model_module_version": "1.5.0",
            "_view_count": null,
            "_view_module_version": "1.5.0",
            "box_style": "",
            "layout": "IPY_MODEL_ed6aaaf31c444c22acb3c49c4b72a7b3",
            "_model_module": "@jupyter-widgets/controls",
            "children": [
              "IPY_MODEL_4d8a6d0fe30c49c796e1f7bde91acc1d",
              "IPY_MODEL_c6051a08e31c4ee196edc4bb9314b8d6"
            ]
          }
        },
        "ed6aaaf31c444c22acb3c49c4b72a7b3": {
          "model_module": "@jupyter-widgets/base",
          "model_name": "LayoutModel",
          "state": {
            "_view_name": "LayoutView",
            "grid_template_rows": null,
            "right": null,
            "justify_content": null,
            "_view_module": "@jupyter-widgets/base",
            "overflow": null,
            "_model_module_version": "1.2.0",
            "_view_count": null,
            "flex_flow": null,
            "width": null,
            "min_width": null,
            "border": null,
            "align_items": null,
            "bottom": null,
            "_model_module": "@jupyter-widgets/base",
            "top": null,
            "grid_column": null,
            "overflow_y": null,
            "overflow_x": null,
            "grid_auto_flow": null,
            "grid_area": null,
            "grid_template_columns": null,
            "flex": null,
            "_model_name": "LayoutModel",
            "justify_items": null,
            "grid_row": null,
            "max_height": null,
            "align_content": null,
            "visibility": null,
            "align_self": null,
            "height": null,
            "min_height": null,
            "padding": null,
            "grid_auto_rows": null,
            "grid_gap": null,
            "max_width": null,
            "order": null,
            "_view_module_version": "1.2.0",
            "grid_template_areas": null,
            "object_position": null,
            "object_fit": null,
            "grid_auto_columns": null,
            "margin": null,
            "display": null,
            "left": null
          }
        },
        "4d8a6d0fe30c49c796e1f7bde91acc1d": {
          "model_module": "@jupyter-widgets/controls",
          "model_name": "FloatProgressModel",
          "state": {
            "_view_name": "ProgressView",
            "style": "IPY_MODEL_90ac50d7f65e47d08096455bfccb6355",
            "_dom_classes": [],
            "description": "100%",
            "_model_name": "FloatProgressModel",
            "bar_style": "success",
            "max": 553433881,
            "_view_module": "@jupyter-widgets/controls",
            "_model_module_version": "1.5.0",
            "value": 553433881,
            "_view_count": null,
            "_view_module_version": "1.5.0",
            "orientation": "horizontal",
            "min": 0,
            "description_tooltip": null,
            "_model_module": "@jupyter-widgets/controls",
            "layout": "IPY_MODEL_3279bd229b5c4e85be70c92261ae9e79"
          }
        },
        "c6051a08e31c4ee196edc4bb9314b8d6": {
          "model_module": "@jupyter-widgets/controls",
          "model_name": "HTMLModel",
          "state": {
            "_view_name": "HTMLView",
            "style": "IPY_MODEL_3f8146ad934d437d8af45bdc0305d769",
            "_dom_classes": [],
            "description": "",
            "_model_name": "HTMLModel",
            "placeholder": "​",
            "_view_module": "@jupyter-widgets/controls",
            "_model_module_version": "1.5.0",
            "value": " 528M/528M [00:12&lt;00:00, 44.6MB/s]",
            "_view_count": null,
            "_view_module_version": "1.5.0",
            "description_tooltip": null,
            "_model_module": "@jupyter-widgets/controls",
            "layout": "IPY_MODEL_95d5fc22e52f48fea8c398eb2aa5932c"
          }
        },
        "90ac50d7f65e47d08096455bfccb6355": {
          "model_module": "@jupyter-widgets/controls",
          "model_name": "ProgressStyleModel",
          "state": {
            "_view_name": "StyleView",
            "_model_name": "ProgressStyleModel",
            "description_width": "initial",
            "_view_module": "@jupyter-widgets/base",
            "_model_module_version": "1.5.0",
            "_view_count": null,
            "_view_module_version": "1.2.0",
            "bar_color": null,
            "_model_module": "@jupyter-widgets/controls"
          }
        },
        "3279bd229b5c4e85be70c92261ae9e79": {
          "model_module": "@jupyter-widgets/base",
          "model_name": "LayoutModel",
          "state": {
            "_view_name": "LayoutView",
            "grid_template_rows": null,
            "right": null,
            "justify_content": null,
            "_view_module": "@jupyter-widgets/base",
            "overflow": null,
            "_model_module_version": "1.2.0",
            "_view_count": null,
            "flex_flow": null,
            "width": null,
            "min_width": null,
            "border": null,
            "align_items": null,
            "bottom": null,
            "_model_module": "@jupyter-widgets/base",
            "top": null,
            "grid_column": null,
            "overflow_y": null,
            "overflow_x": null,
            "grid_auto_flow": null,
            "grid_area": null,
            "grid_template_columns": null,
            "flex": null,
            "_model_name": "LayoutModel",
            "justify_items": null,
            "grid_row": null,
            "max_height": null,
            "align_content": null,
            "visibility": null,
            "align_self": null,
            "height": null,
            "min_height": null,
            "padding": null,
            "grid_auto_rows": null,
            "grid_gap": null,
            "max_width": null,
            "order": null,
            "_view_module_version": "1.2.0",
            "grid_template_areas": null,
            "object_position": null,
            "object_fit": null,
            "grid_auto_columns": null,
            "margin": null,
            "display": null,
            "left": null
          }
        },
        "3f8146ad934d437d8af45bdc0305d769": {
          "model_module": "@jupyter-widgets/controls",
          "model_name": "DescriptionStyleModel",
          "state": {
            "_view_name": "StyleView",
            "_model_name": "DescriptionStyleModel",
            "description_width": "",
            "_view_module": "@jupyter-widgets/base",
            "_model_module_version": "1.5.0",
            "_view_count": null,
            "_view_module_version": "1.2.0",
            "_model_module": "@jupyter-widgets/controls"
          }
        },
        "95d5fc22e52f48fea8c398eb2aa5932c": {
          "model_module": "@jupyter-widgets/base",
          "model_name": "LayoutModel",
          "state": {
            "_view_name": "LayoutView",
            "grid_template_rows": null,
            "right": null,
            "justify_content": null,
            "_view_module": "@jupyter-widgets/base",
            "overflow": null,
            "_model_module_version": "1.2.0",
            "_view_count": null,
            "flex_flow": null,
            "width": null,
            "min_width": null,
            "border": null,
            "align_items": null,
            "bottom": null,
            "_model_module": "@jupyter-widgets/base",
            "top": null,
            "grid_column": null,
            "overflow_y": null,
            "overflow_x": null,
            "grid_auto_flow": null,
            "grid_area": null,
            "grid_template_columns": null,
            "flex": null,
            "_model_name": "LayoutModel",
            "justify_items": null,
            "grid_row": null,
            "max_height": null,
            "align_content": null,
            "visibility": null,
            "align_self": null,
            "height": null,
            "min_height": null,
            "padding": null,
            "grid_auto_rows": null,
            "grid_gap": null,
            "max_width": null,
            "order": null,
            "_view_module_version": "1.2.0",
            "grid_template_areas": null,
            "object_position": null,
            "object_fit": null,
            "grid_auto_columns": null,
            "margin": null,
            "display": null,
            "left": null
          }
        }
      }
    }
  },
  "cells": [
    {
      "cell_type": "code",
      "metadata": {
        "id": "eIxReosy9dv0",
        "colab_type": "code",
        "colab": {
          "base_uri": "https://localhost:8080/",
          "height": 479
        },
        "outputId": "71e24c2c-96e2-47d7-a4b6-e72487eb2b2e"
      },
      "source": [
        "!pip install foolbox==2.3.0"
      ],
      "execution_count": 1,
      "outputs": [
        {
          "output_type": "stream",
          "text": [
            "Collecting foolbox==2.3.0\n",
            "\u001b[?25l  Downloading https://files.pythonhosted.org/packages/0a/3f/cee46491ba9546d8c7bf14e18a4ecbdae411ca3d2e2ccdb227aad6de1782/foolbox-2.3.0.tar.gz (1.9MB)\n",
            "\u001b[K     |████████████████████████████████| 1.9MB 4.6MB/s \n",
            "\u001b[?25hRequirement already satisfied: numpy in /usr/local/lib/python3.6/dist-packages (from foolbox==2.3.0) (1.18.5)\n",
            "Requirement already satisfied: scipy in /usr/local/lib/python3.6/dist-packages (from foolbox==2.3.0) (1.4.1)\n",
            "Requirement already satisfied: setuptools in /usr/local/lib/python3.6/dist-packages (from foolbox==2.3.0) (49.2.0)\n",
            "Requirement already satisfied: requests in /usr/local/lib/python3.6/dist-packages (from foolbox==2.3.0) (2.23.0)\n",
            "Collecting GitPython\n",
            "\u001b[?25l  Downloading https://files.pythonhosted.org/packages/f9/1e/a45320cab182bf1c8656107b3d4c042e659742822fc6bff150d769a984dd/GitPython-3.1.7-py3-none-any.whl (158kB)\n",
            "\u001b[K     |████████████████████████████████| 163kB 29.6MB/s \n",
            "\u001b[?25hRequirement already satisfied: idna<3,>=2.5 in /usr/local/lib/python3.6/dist-packages (from requests->foolbox==2.3.0) (2.10)\n",
            "Requirement already satisfied: chardet<4,>=3.0.2 in /usr/local/lib/python3.6/dist-packages (from requests->foolbox==2.3.0) (3.0.4)\n",
            "Requirement already satisfied: urllib3!=1.25.0,!=1.25.1,<1.26,>=1.21.1 in /usr/local/lib/python3.6/dist-packages (from requests->foolbox==2.3.0) (1.24.3)\n",
            "Requirement already satisfied: certifi>=2017.4.17 in /usr/local/lib/python3.6/dist-packages (from requests->foolbox==2.3.0) (2020.6.20)\n",
            "Collecting gitdb<5,>=4.0.1\n",
            "\u001b[?25l  Downloading https://files.pythonhosted.org/packages/48/11/d1800bca0a3bae820b84b7d813ad1eff15a48a64caea9c823fc8c1b119e8/gitdb-4.0.5-py3-none-any.whl (63kB)\n",
            "\u001b[K     |████████████████████████████████| 71kB 8.7MB/s \n",
            "\u001b[?25hCollecting smmap<4,>=3.0.1\n",
            "  Downloading https://files.pythonhosted.org/packages/b0/9a/4d409a6234eb940e6a78dfdfc66156e7522262f5f2fecca07dc55915952d/smmap-3.0.4-py2.py3-none-any.whl\n",
            "Building wheels for collected packages: foolbox\n",
            "  Building wheel for foolbox (setup.py) ... \u001b[?25l\u001b[?25hdone\n",
            "  Created wheel for foolbox: filename=foolbox-2.3.0-cp36-none-any.whl size=1926237 sha256=e727526640b6dc9a634cc23045371545fc28861a83b66eb8473cade2cd487970\n",
            "  Stored in directory: /root/.cache/pip/wheels/3a/e4/a4/b6a9e61a9729c442383d774328091f69d9235268401a1c9524\n",
            "Successfully built foolbox\n",
            "Installing collected packages: smmap, gitdb, GitPython, foolbox\n",
            "Successfully installed GitPython-3.1.7 foolbox-2.3.0 gitdb-4.0.5 smmap-3.0.4\n"
          ],
          "name": "stdout"
        }
      ]
    },
    {
      "cell_type": "code",
      "metadata": {
        "id": "Dy0XRLiT9H44",
        "colab_type": "code",
        "colab": {}
      },
      "source": [
        "import foolbox\n",
        "import numpy as np\n",
        "import torch\n",
        "import torchvision.models as models\n",
        "from PIL import Image\n",
        "import torchvision.transforms as transforms\n",
        "from torch.autograd import Variable\n",
        "from scipy.special import softmax\n",
        "import cv2\n",
        "import tensorflow as tf\n",
        "import matplotlib.pyplot as plt\n",
        "import os\n",
        "import time "
      ],
      "execution_count": 2,
      "outputs": []
    },
    {
      "cell_type": "code",
      "metadata": {
        "id": "G6D87Pba9H5E",
        "colab_type": "code",
        "colab": {}
      },
      "source": [
        "# preprocess original image \n",
        "def preprocess_orig_image(image):\n",
        "\n",
        "    im_orig = Image.open(image)\n",
        "    im = transforms.Compose([\n",
        "        transforms.Resize(256),\n",
        "        transforms.CenterCrop(224),\n",
        "        transforms.ToTensor()])(im_orig)\n",
        "    im = im.reshape(3,224,224)\n",
        "    return im\n",
        "\n",
        "# create foolbox model given the PyTorch model\n",
        "def test_model(model):\n",
        "    model = model.eval()\n",
        "    preprocessing = dict(mean=[0.485, 0.456, 0.406], std=[0.229, 0.224, 0.225], axis=-3)\n",
        "    fmodel = foolbox.models.PyTorchModel(model, bounds=(0, 1), num_classes=1000, preprocessing=preprocessing)\n",
        "    return fmodel\n",
        "\n",
        "\n",
        "def get_labels(label_orig, label_pert):\n",
        "\n",
        "    labels = open(os.path.join('synset_words.txt'), 'r').read().split('\\n')\n",
        "\n",
        "    str_label_orig = labels[np.int(label_orig)].split(',')[0]\n",
        "    str_label_pert = labels[np.int(label_pert)].split(',')[0]\n",
        "    \n",
        "    return str_label_orig,str_label_pert\n",
        "\n",
        "\n",
        "# comptute the cosine similarity between 2 original image and adversarial image\n",
        "def calculate_cossim(orig,pert):\n",
        "\n",
        "    original_image = orig.flatten()\n",
        "    perturbed_image = pert.flatten()\n",
        "\n",
        "    dot_product = np.dot(original_image, perturbed_image)\n",
        "    norm_a = np.linalg.norm(original_image)\n",
        "    norm_b = np.linalg.norm(perturbed_image)\n",
        "    cossimi = ((dot_product / (norm_a * norm_b)))\n",
        "    return cossimi\n",
        "\n",
        "\n",
        "def mse(imageA, imageB):\n",
        "    # the 'Mean Squared Error' between the two images is the\n",
        "    # sum of the squared difference between the two images;\n",
        "    # NOTE: the two images must have the same dimension\n",
        "    err = np.sum((imageA.astype(\"float\") - imageB.astype(\"float\")) ** 2)\n",
        "    err /= float(imageA.shape[0] * imageA.shape[1])\n",
        "\n",
        "    # return the MSE, the lower the error, the more \"similar\"\n",
        "    # the two images are\n",
        "    return err"
      ],
      "execution_count": 3,
      "outputs": []
    },
    {
      "cell_type": "code",
      "metadata": {
        "id": "QsOIZWUQ9H5I",
        "colab_type": "code",
        "colab": {
          "base_uri": "https://localhost:8080/",
          "height": 219,
          "referenced_widgets": [
            "f00afc88f65a43168cc502059ea05db4",
            "ed6aaaf31c444c22acb3c49c4b72a7b3",
            "4d8a6d0fe30c49c796e1f7bde91acc1d",
            "c6051a08e31c4ee196edc4bb9314b8d6",
            "90ac50d7f65e47d08096455bfccb6355",
            "3279bd229b5c4e85be70c92261ae9e79",
            "3f8146ad934d437d8af45bdc0305d769",
            "95d5fc22e52f48fea8c398eb2aa5932c"
          ]
        },
        "outputId": "2e88f228-adb7-4f83-92b5-b2b6899566ae"
      },
      "source": [
        "model = models.vgg16(pretrained=True) \n",
        "fmodel = test_model(model)\n",
        "\n",
        "images, labels = foolbox.utils.samples(dataset='imagenet',batchsize=20, data_format='channels_first',bounds=(0,1))\n",
        "print(np.mean(fmodel.forward(images).argmax(axis=-1) == labels))\n",
        "\n",
        "start_time = time.time()\n",
        "attack = foolbox.attacks.DeepFoolLinfinityAttack(fmodel, distance=foolbox.distances.MeanSquaredDistance)\n",
        "adversarials = attack(images, labels, unpack=False)\n",
        "end_time = time.time() - start_time\n",
        "\n",
        "print (\"Time taken: %.2f\"%end_time)\n",
        "\n",
        "# print (adversarials[0].perturbed)\n",
        "\n",
        "im_advs_confidence = []\n",
        "im_orig_confidence = []\n",
        "cos_sim = []\n",
        "\n",
        "for adv in adversarials:\n",
        "  image_conf = np.amax(foolbox.utils.softmax(fmodel.forward_one(adv.unperturbed)))\n",
        "  im_orig_confidence.append(image_conf)\n",
        "  advs_conf = np.amax(foolbox.utils.softmax(fmodel.forward_one(adv.perturbed)))\n",
        "  im_advs_confidence.append(advs_conf)\n",
        "  orig = np.transpose(adv.unperturbed, (1, 2, 0))\n",
        "  pert = np.transpose(adv.perturbed, (1, 2, 0))\n",
        "  cos_sim.append(calculate_cossim(orig,pert))\n",
        "\n",
        "\n",
        "print (\"Average Cosine Sim: \",np.mean(np.asarray(cos_sim)))\n",
        "print (\"Original Conf %.2f%%: \" % (np.mean(np.asarray(im_orig_confidence))*100))\n",
        "print (\"Adversarial %.2f%%: \" % (np.mean(np.asarray(im_advs_confidence))*100))\n",
        "\n",
        "\n",
        "# adversarial_classes = np.asarray([a.adversarial_class for a in adversarials])\n",
        "# print(labels)\n",
        "# print(adversarial_classes)\n",
        "\n",
        "distances = np.asarray([a.distance.value for a in adversarials])\n",
        "print(\"{:.1e}, {:.1e}, {:.1e}\".format(distances.min(), np.mean(distances), distances.max()))\n",
        "print(\"{} of {} attacks failed\".format(sum(adv.distance.value == np.inf for adv in adversarials), len(adversarials)))\n",
        "print(\"{} of {} inputs misclassified without perturbation\".format(sum(adv.distance.value == 0 for adv in adversarials), len(adversarials)))\n",
        "\n",
        "\n",
        "#CWAttack\n",
        "# 0.8125\n",
        "# Time taken:  447.2416696548462\n",
        "# Original Conf:  0.9349993\n",
        "# Adversarial Conf:  0.5553582\n",
        "\n"
      ],
      "execution_count": 9,
      "outputs": [
        {
          "output_type": "stream",
          "text": [
            "Downloading: \"https://download.pytorch.org/models/vgg16-397923af.pth\" to /root/.cache/torch/hub/checkpoints/vgg16-397923af.pth\n"
          ],
          "name": "stderr"
        },
        {
          "output_type": "display_data",
          "data": {
            "application/vnd.jupyter.widget-view+json": {
              "model_id": "f00afc88f65a43168cc502059ea05db4",
              "version_minor": 0,
              "version_major": 2
            },
            "text/plain": [
              "HBox(children=(FloatProgress(value=0.0, max=553433881.0), HTML(value='')))"
            ]
          },
          "metadata": {
            "tags": []
          }
        },
        {
          "output_type": "stream",
          "text": [
            "\n",
            "0.9\n",
            "Time taken: 7.07\n",
            "Average Cosine Sim:  0.9994186\n",
            "Original Conf 81.04%: \n",
            "Adversarial 62.81%: \n",
            "0.0e+00, 2.8e-04, 1.4e-03\n",
            "0 of 20 attacks failed\n",
            "2 of 20 inputs misclassified without perturbation\n"
          ],
          "name": "stdout"
        }
      ]
    },
    {
      "cell_type": "code",
      "metadata": {
        "id": "UKkV3p3B9H5Q",
        "colab_type": "code",
        "colab": {}
      },
      "source": [
        ""
      ],
      "execution_count": 4,
      "outputs": []
    }
  ]
}
{
  "nbformat": 4,
  "nbformat_minor": 0,
  "metadata": {
    "kernelspec": {
      "display_name": "Python 3",
      "language": "python",
      "name": "python3"
    },
    "language_info": {
      "codemirror_mode": {
        "name": "ipython",
        "version": 3
      },
      "file_extension": ".py",
      "mimetype": "text/x-python",
      "name": "python",
      "nbconvert_exporter": "python",
      "pygments_lexer": "ipython3",
      "version": "3.8.1"
    },
    "colab": {
      "name": "LBFGS_Batch.ipynb",
      "provenance": [],
      "collapsed_sections": []
    },
    "accelerator": "GPU"
  },
  "cells": [
    {
      "cell_type": "code",
      "metadata": {
        "id": "eIxReosy9dv0",
        "colab_type": "code",
        "colab": {
          "base_uri": "https://localhost:8080/",
          "height": 241
        },
        "outputId": "417835c6-e3c7-4780-da57-d693f1adbd4c"
      },
      "source": [
        "!pip install foolbox==2.3.0"
      ],
      "execution_count": null,
      "outputs": [
        {
          "output_type": "stream",
          "text": [
            "Requirement already satisfied: foolbox==2.3.0 in /usr/local/lib/python3.6/dist-packages (2.3.0)\n",
            "Requirement already satisfied: GitPython in /usr/local/lib/python3.6/dist-packages (from foolbox==2.3.0) (3.1.7)\n",
            "Requirement already satisfied: requests in /usr/local/lib/python3.6/dist-packages (from foolbox==2.3.0) (2.23.0)\n",
            "Requirement already satisfied: scipy in /usr/local/lib/python3.6/dist-packages (from foolbox==2.3.0) (1.4.1)\n",
            "Requirement already satisfied: setuptools in /usr/local/lib/python3.6/dist-packages (from foolbox==2.3.0) (49.2.0)\n",
            "Requirement already satisfied: numpy in /usr/local/lib/python3.6/dist-packages (from foolbox==2.3.0) (1.18.5)\n",
            "Requirement already satisfied: gitdb<5,>=4.0.1 in /usr/local/lib/python3.6/dist-packages (from GitPython->foolbox==2.3.0) (4.0.5)\n",
            "Requirement already satisfied: urllib3!=1.25.0,!=1.25.1,<1.26,>=1.21.1 in /usr/local/lib/python3.6/dist-packages (from requests->foolbox==2.3.0) (1.24.3)\n",
            "Requirement already satisfied: idna<3,>=2.5 in /usr/local/lib/python3.6/dist-packages (from requests->foolbox==2.3.0) (2.10)\n",
            "Requirement already satisfied: chardet<4,>=3.0.2 in /usr/local/lib/python3.6/dist-packages (from requests->foolbox==2.3.0) (3.0.4)\n",
            "Requirement already satisfied: certifi>=2017.4.17 in /usr/local/lib/python3.6/dist-packages (from requests->foolbox==2.3.0) (2020.6.20)\n",
            "Requirement already satisfied: smmap<4,>=3.0.1 in /usr/local/lib/python3.6/dist-packages (from gitdb<5,>=4.0.1->GitPython->foolbox==2.3.0) (3.0.4)\n"
          ],
          "name": "stdout"
        }
      ]
    },
    {
      "cell_type": "code",
      "metadata": {
        "id": "Dy0XRLiT9H44",
        "colab_type": "code",
        "colab": {}
      },
      "source": [
        "import foolbox\n",
        "import numpy as np\n",
        "import torch\n",
        "import torchvision.models as models\n",
        "from PIL import Image\n",
        "import torchvision.transforms as transforms\n",
        "from torch.autograd import Variable\n",
        "from scipy.special import softmax\n",
        "import cv2\n",
        "import tensorflow as tf\n",
        "import matplotlib.pyplot as plt\n",
        "import os\n",
        "import time "
      ],
      "execution_count": null,
      "outputs": []
    },
    {
      "cell_type": "code",
      "metadata": {
        "id": "G6D87Pba9H5E",
        "colab_type": "code",
        "colab": {}
      },
      "source": [
        "# preprocess original image \n",
        "def preprocess_orig_image(image):\n",
        "\n",
        "    im_orig = Image.open(image)\n",
        "    im = transforms.Compose([\n",
        "        transforms.Resize(256),\n",
        "        transforms.CenterCrop(224),\n",
        "        transforms.ToTensor()])(im_orig)\n",
        "    im = im.reshape(3,224,224)\n",
        "    return im\n",
        "\n",
        "# create foolbox model given the PyTorch model\n",
        "def test_model(model):\n",
        "    model = model.eval()\n",
        "    preprocessing = dict(mean=[0.485, 0.456, 0.406], std=[0.229, 0.224, 0.225], axis=-3)\n",
        "    fmodel = foolbox.models.PyTorchModel(model, bounds=(0, 1), num_classes=1000, preprocessing=preprocessing)\n",
        "    return fmodel\n",
        "\n",
        "\n",
        "def get_labels(label_orig, label_pert):\n",
        "\n",
        "    labels = open(os.path.join('synset_words.txt'), 'r').read().split('\\n')\n",
        "\n",
        "    str_label_orig = labels[np.int(label_orig)].split(',')[0]\n",
        "    str_label_pert = labels[np.int(label_pert)].split(',')[0]\n",
        "    \n",
        "    return str_label_orig,str_label_pert\n",
        "\n",
        "\n",
        "# comptute the cosine similarity between 2 original image and adversarial image\n",
        "def calculate_cossim(orig,pert):\n",
        "\n",
        "    original_image = orig.flatten()\n",
        "    perturbed_image = pert.flatten()\n",
        "\n",
        "    dot_product = np.dot(original_image, perturbed_image)\n",
        "    norm_a = np.linalg.norm(original_image)\n",
        "    norm_b = np.linalg.norm(perturbed_image)\n",
        "    cossimi = ((dot_product / (norm_a * norm_b)))\n",
        "    return cossimi\n",
        "\n",
        "\n",
        "def mse(imageA, imageB):\n",
        "    err = np.sum((imageA.astype(\"float\") - imageB.astype(\"float\")) ** 2)\n",
        "    err /= float(imageA.shape[0] * imageA.shape[1])\n",
        "\n",
        "    # return the MSE, the lower the error, the more \"similar\"\n",
        "    # the two images are\n",
        "    return err"
      ],
      "execution_count": null,
      "outputs": []
    },
    {
      "cell_type": "code",
      "metadata": {
        "id": "UKkV3p3B9H5Q",
        "colab_type": "code",
        "colab": {
          "base_uri": "https://localhost:8080/",
          "height": 190
        },
        "outputId": "6bc5587e-e166-4bad-912f-2098066729a6"
      },
      "source": [
        "model = models.vgg19(pretrained=True) \n",
        "fmodel = test_model(model)\n",
        "\n",
        "images, labels = foolbox.utils.samples(dataset='imagenet',batchsize=20, data_format='channels_first',bounds=(0,1))\n",
        "print(np.mean(fmodel.forward(images).argmax(axis=-1) == labels))\n",
        "\n",
        "print (\"Running Attack\")\n",
        "start_time = time.time()\n",
        "attack = foolbox.v1.attacks.LBFGSAttack(fmodel, distance=foolbox.distances.MeanSquaredDistance)\n",
        "adversarials = []\n",
        "for i in range(len(images)):\n",
        "  adversarials.append(attack(images[i], labels[i]))\n",
        "end_time = time.time() - start_time\n",
        "\n",
        "print (\"Time taken: %.2f\"%end_time)\n",
        "\n",
        "# print (adversarials[0].perturbed)\n",
        "\n",
        "im_advs_confidence = []\n",
        "im_orig_confidence = []\n",
        "cos_sim = []\n",
        "mse_val = []\n",
        "\n",
        "i = 0\n",
        "for adv in adversarials:\n",
        "  image_conf = np.amax(foolbox.utils.softmax(fmodel.forward_one(images[i])))\n",
        "  im_orig_confidence.append(image_conf)\n",
        "  advs_conf = np.amax(foolbox.utils.softmax(fmodel.forward_one(adv)))\n",
        "  im_advs_confidence.append(advs_conf)\n",
        "  orig = np.transpose(adv, (1, 2, 0))\n",
        "  pert = np.transpose(images[i], (1, 2, 0))\n",
        "  cos_sim.append(calculate_cossim(orig,pert))\n",
        "  mse_val.append(mse(orig,pert))\n",
        "  i+=1\n",
        "\n",
        "print (\"Average Cosine Sim: \",np.mean(np.asarray(cos_sim)))\n",
        "print (\"Average MSE: \",np.mean(np.asarray(mse_val)))\n",
        "print (\"Original Conf %.2f%%: \" % (np.mean(np.asarray(im_orig_confidence))*100))\n",
        "print (\"Adversarial %.2f%%: \" % (np.mean(np.asarray(im_advs_confidence))*100))\n"
      ],
      "execution_count": null,
      "outputs": [
        {
          "output_type": "stream",
          "text": [
            "0.95\n",
            "Running Attack\n"
          ],
          "name": "stdout"
        },
        {
          "output_type": "stream",
          "text": [
            "/usr/local/lib/python3.6/dist-packages/foolbox/v1/attacks/base.py:141: UserWarning: Not running the attack because the original input is already misclassified and the adversarial thus has a distance of 0.\n",
            "  \"Not running the attack because the original input\"\n"
          ],
          "name": "stderr"
        },
        {
          "output_type": "stream",
          "text": [
            "Time taken: 884.85\n",
            "Average Cosine Sim:  0.9999989\n",
            "Average MSE:  2.011296134913201e-06\n",
            "Original Conf 85.51%: \n",
            "Adversarial 88.32%: \n"
          ],
          "name": "stdout"
        }
      ]
    }
  ]
}
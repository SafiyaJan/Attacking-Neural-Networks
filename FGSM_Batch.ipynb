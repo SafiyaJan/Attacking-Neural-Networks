{
  "nbformat": 4,
  "nbformat_minor": 0,
  "metadata": {
    "kernelspec": {
      "display_name": "Python 3",
      "language": "python",
      "name": "python3"
    },
    "language_info": {
      "codemirror_mode": {
        "name": "ipython",
        "version": 3
      },
      "file_extension": ".py",
      "mimetype": "text/x-python",
      "name": "python",
      "nbconvert_exporter": "python",
      "pygments_lexer": "ipython3",
      "version": "3.8.1"
    },
    "colab": {
      "name": "FGSM_Batch.ipynb",
      "provenance": [],
      "collapsed_sections": []
    },
    "accelerator": "GPU"
  },
  "cells": [
    {
      "cell_type": "code",
      "metadata": {
        "id": "E68SuQG1vEKg",
        "colab_type": "code",
        "colab": {}
      },
      "source": [
        ""
      ],
      "execution_count": 2,
      "outputs": []
    },
    {
      "cell_type": "code",
      "metadata": {
        "id": "eIxReosy9dv0",
        "colab_type": "code",
        "colab": {}
      },
      "source": [
        "# !pip install foolbox==2.3.0"
      ],
      "execution_count": 21,
      "outputs": []
    },
    {
      "cell_type": "code",
      "metadata": {
        "id": "Dy0XRLiT9H44",
        "colab_type": "code",
        "colab": {}
      },
      "source": [
        "import foolbox\n",
        "import numpy as np\n",
        "import torch\n",
        "import torchvision.models as models\n",
        "from PIL import Image\n",
        "import torchvision.transforms as transforms\n",
        "from torch.autograd import Variable\n",
        "from scipy.special import softmax\n",
        "import cv2\n",
        "import tensorflow as tf\n",
        "import matplotlib.pyplot as plt\n",
        "import os\n",
        "import time "
      ],
      "execution_count": 4,
      "outputs": []
    },
    {
      "cell_type": "code",
      "metadata": {
        "id": "G6D87Pba9H5E",
        "colab_type": "code",
        "colab": {}
      },
      "source": [
        "# preprocess original image \n",
        "def preprocess_orig_image(image):\n",
        "\n",
        "    im_orig = Image.open(image)\n",
        "    im = transforms.Compose([\n",
        "        transforms.Resize(256),\n",
        "        transforms.CenterCrop(224),\n",
        "        transforms.ToTensor()])(im_orig)\n",
        "    im = im.reshape(3,224,224)\n",
        "    return im\n",
        "\n",
        "# create foolbox model given the PyTorch model\n",
        "def test_model(model):\n",
        "    model = model.eval()\n",
        "    preprocessing = dict(mean=[0.485, 0.456, 0.406], std=[0.229, 0.224, 0.225], axis=-3)\n",
        "    fmodel = foolbox.models.PyTorchModel(model, bounds=(0, 1), num_classes=1000, preprocessing=preprocessing)\n",
        "    return fmodel\n",
        "\n",
        "\n",
        "def get_labels(label_orig, label_pert):\n",
        "\n",
        "    labels = open(os.path.join('synset_words.txt'), 'r').read().split('\\n')\n",
        "\n",
        "    str_label_orig = labels[np.int(label_orig)].split(',')[0]\n",
        "    str_label_pert = labels[np.int(label_pert)].split(',')[0]\n",
        "    \n",
        "    return str_label_orig,str_label_pert\n",
        "\n",
        "\n",
        "# comptute the cosine similarity between 2 original image and adversarial image\n",
        "def calculate_cossim(orig,pert):\n",
        "\n",
        "    original_image = orig.flatten()\n",
        "    perturbed_image = pert.flatten()\n",
        "\n",
        "    dot_product = np.dot(original_image, perturbed_image)\n",
        "    norm_a = np.linalg.norm(original_image)\n",
        "    norm_b = np.linalg.norm(perturbed_image)\n",
        "    cossimi = ((dot_product / (norm_a * norm_b)))\n",
        "    return cossimi\n",
        "\n",
        "\n",
        "def mse(imageA, imageB):\n",
        "    # the 'Mean Squared Error' between the two images is the\n",
        "    # sum of the squared difference between the two images;\n",
        "    # NOTE: the two images must have the same dimension\n",
        "    err = np.sum((imageA.astype(\"float\") - imageB.astype(\"float\")) ** 2)\n",
        "    err /= float(imageA.shape[0] * imageA.shape[1])\n",
        "\n",
        "    # return the MSE, the lower the error, the more \"similar\"\n",
        "    # the two images are\n",
        "    return err"
      ],
      "execution_count": 5,
      "outputs": []
    },
    {
      "cell_type": "code",
      "metadata": {
        "id": "QsOIZWUQ9H5I",
        "colab_type": "code",
        "colab": {
          "base_uri": "https://localhost:8080/",
          "height": 153
        },
        "outputId": "0eb7801d-662f-4ddf-c518-75d6b19b9eca"
      },
      "source": [
        "model = models.resnet50(pretrained=True) \n",
        "fmodel = test_model(model)\n",
        "\n",
        "images, labels = foolbox.utils.samples(dataset='imagenet',batchsize=20, data_format='channels_first',bounds=(0,1))\n",
        "print(np.mean(fmodel.forward(images).argmax(axis=-1) == labels))\n",
        "\n",
        "start_time = time.time()\n",
        "attack = foolbox.attacks.FGSM(fmodel, distance=foolbox.distances.MeanSquaredDistance)\n",
        "adversarials = attack(images, labels, unpack=False)\n",
        "end_time = time.time() - start_time\n",
        "\n",
        "print (\"Time taken: %.2f\"%end_time)\n",
        "\n",
        "# print (adversarials[0].perturbed)\n",
        "\n",
        "im_advs_confidence = []\n",
        "im_orig_confidence = []\n",
        "cos_sim = []\n",
        "\n",
        "for adv in adversarials:\n",
        "  image_conf = np.amax(foolbox.utils.softmax(fmodel.forward_one(adv.unperturbed)))\n",
        "  im_orig_confidence.append(image_conf)\n",
        "  advs_conf = np.amax(foolbox.utils.softmax(fmodel.forward_one(adv.perturbed)))\n",
        "  im_advs_confidence.append(advs_conf)\n",
        "  orig = np.transpose(adv.unperturbed, (1, 2, 0))\n",
        "  pert = np.transpose(adv.perturbed, (1, 2, 0))\n",
        "  cos_sim.append(calculate_cossim(orig,pert))\n",
        "\n",
        "\n",
        "print (\"Average Cosine Sim: \",np.mean(np.asarray(cos_sim)))\n",
        "print (\"Original Conf %.2f%%: \" % (np.mean(np.asarray(im_orig_confidence))*100))\n",
        "print (\"Adversarial %.2f%%: \" % (np.mean(np.asarray(im_advs_confidence))*100))\n",
        "\n",
        "\n",
        "# adversarial_classes = np.asarray([a.adversarial_class for a in adversarials])\n",
        "# print(labels)\n",
        "# print(adversarial_classes)\n",
        "\n",
        "distances = np.asarray([a.distance.value for a in adversarials])\n",
        "print(\"{:.1e}, {:.1e}, {:.1e}\".format(distances.min(), np.mean(distances), distances.max()))\n",
        "print(\"{} of {} attacks failed\".format(sum(adv.distance.value == np.inf for adv in adversarials), len(adversarials)))\n",
        "print(\"{} of {} inputs misclassified without perturbation\".format(sum(adv.distance.value == 0 for adv in adversarials), len(adversarials)))\n",
        "\n",
        "\n",
        "#CWAttack\n",
        "# 0.8125\n",
        "# Time taken:  447.2416696548462\n",
        "# Original Conf:  0.9349993\n",
        "# Adversarial Conf:  0.5553582\n",
        "\n"
      ],
      "execution_count": 20,
      "outputs": [
        {
          "output_type": "stream",
          "text": [
            "0.95\n",
            "Time taken: 2.04\n",
            "Average Cosine Sim:  0.9999878\n",
            "Original Conf 90.04%: \n",
            "Adversarial 41.15%: \n",
            "0.0e+00, 6.5e-06, 4.0e-05\n",
            "0 of 20 attacks failed\n",
            "1 of 20 inputs misclassified without perturbation\n"
          ],
          "name": "stdout"
        }
      ]
    },
    {
      "cell_type": "code",
      "metadata": {
        "id": "UKkV3p3B9H5Q",
        "colab_type": "code",
        "colab": {}
      },
      "source": [
        ""
      ],
      "execution_count": 6,
      "outputs": []
    }
  ]
}
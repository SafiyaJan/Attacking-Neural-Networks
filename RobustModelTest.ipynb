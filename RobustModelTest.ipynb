{
  "nbformat": 4,
  "nbformat_minor": 0,
  "metadata": {
    "colab": {
      "name": "RobustModelTest.ipynb",
      "provenance": [],
      "collapsed_sections": [],
      "authorship_tag": "ABX9TyMz2tf5jRUWgCXwo9l0lykj"
    },
    "kernelspec": {
      "name": "python3",
      "display_name": "Python 3"
    },
    "accelerator": "GPU",
    "widgets": {
      "application/vnd.jupyter.widget-state+json": {
        "26d5b428825b49dfaefb9849acd66c83": {
          "model_module": "@jupyter-widgets/controls",
          "model_name": "HBoxModel",
          "state": {
            "_view_name": "HBoxView",
            "_dom_classes": [],
            "_model_name": "HBoxModel",
            "_view_module": "@jupyter-widgets/controls",
            "_model_module_version": "1.5.0",
            "_view_count": null,
            "_view_module_version": "1.5.0",
            "box_style": "",
            "layout": "IPY_MODEL_aa2d6925d2ec468e9174c3f9578a59ef",
            "_model_module": "@jupyter-widgets/controls",
            "children": [
              "IPY_MODEL_838feff6f51044209af1fc8b7fc55f56",
              "IPY_MODEL_26007d95bca34c7aa53608d84adb3144"
            ]
          }
        },
        "aa2d6925d2ec468e9174c3f9578a59ef": {
          "model_module": "@jupyter-widgets/base",
          "model_name": "LayoutModel",
          "state": {
            "_view_name": "LayoutView",
            "grid_template_rows": null,
            "right": null,
            "justify_content": null,
            "_view_module": "@jupyter-widgets/base",
            "overflow": null,
            "_model_module_version": "1.2.0",
            "_view_count": null,
            "flex_flow": null,
            "width": null,
            "min_width": null,
            "border": null,
            "align_items": null,
            "bottom": null,
            "_model_module": "@jupyter-widgets/base",
            "top": null,
            "grid_column": null,
            "overflow_y": null,
            "overflow_x": null,
            "grid_auto_flow": null,
            "grid_area": null,
            "grid_template_columns": null,
            "flex": null,
            "_model_name": "LayoutModel",
            "justify_items": null,
            "grid_row": null,
            "max_height": null,
            "align_content": null,
            "visibility": null,
            "align_self": null,
            "height": null,
            "min_height": null,
            "padding": null,
            "grid_auto_rows": null,
            "grid_gap": null,
            "max_width": null,
            "order": null,
            "_view_module_version": "1.2.0",
            "grid_template_areas": null,
            "object_position": null,
            "object_fit": null,
            "grid_auto_columns": null,
            "margin": null,
            "display": null,
            "left": null
          }
        },
        "838feff6f51044209af1fc8b7fc55f56": {
          "model_module": "@jupyter-widgets/controls",
          "model_name": "FloatProgressModel",
          "state": {
            "_view_name": "ProgressView",
            "style": "IPY_MODEL_05d15b07e0f545c1b89dfa13c93bbfec",
            "_dom_classes": [],
            "description": "",
            "_model_name": "FloatProgressModel",
            "bar_style": "info",
            "max": 1,
            "_view_module": "@jupyter-widgets/controls",
            "_model_module_version": "1.5.0",
            "value": 1,
            "_view_count": null,
            "_view_module_version": "1.5.0",
            "orientation": "horizontal",
            "min": 0,
            "description_tooltip": null,
            "_model_module": "@jupyter-widgets/controls",
            "layout": "IPY_MODEL_5b816b88a0e54f6894918591ac8aaa02"
          }
        },
        "26007d95bca34c7aa53608d84adb3144": {
          "model_module": "@jupyter-widgets/controls",
          "model_name": "HTMLModel",
          "state": {
            "_view_name": "HTMLView",
            "style": "IPY_MODEL_c34c7e0cde80415a9188ee55a7f097c5",
            "_dom_classes": [],
            "description": "",
            "_model_name": "HTMLModel",
            "placeholder": "​",
            "_view_module": "@jupyter-widgets/controls",
            "_model_module_version": "1.5.0",
            "value": " 170500096/? [00:21&lt;00:00, 51601655.45it/s]",
            "_view_count": null,
            "_view_module_version": "1.5.0",
            "description_tooltip": null,
            "_model_module": "@jupyter-widgets/controls",
            "layout": "IPY_MODEL_d8a1519ff21e4069af91e30c2bc11aab"
          }
        },
        "05d15b07e0f545c1b89dfa13c93bbfec": {
          "model_module": "@jupyter-widgets/controls",
          "model_name": "ProgressStyleModel",
          "state": {
            "_view_name": "StyleView",
            "_model_name": "ProgressStyleModel",
            "description_width": "initial",
            "_view_module": "@jupyter-widgets/base",
            "_model_module_version": "1.5.0",
            "_view_count": null,
            "_view_module_version": "1.2.0",
            "bar_color": null,
            "_model_module": "@jupyter-widgets/controls"
          }
        },
        "5b816b88a0e54f6894918591ac8aaa02": {
          "model_module": "@jupyter-widgets/base",
          "model_name": "LayoutModel",
          "state": {
            "_view_name": "LayoutView",
            "grid_template_rows": null,
            "right": null,
            "justify_content": null,
            "_view_module": "@jupyter-widgets/base",
            "overflow": null,
            "_model_module_version": "1.2.0",
            "_view_count": null,
            "flex_flow": null,
            "width": null,
            "min_width": null,
            "border": null,
            "align_items": null,
            "bottom": null,
            "_model_module": "@jupyter-widgets/base",
            "top": null,
            "grid_column": null,
            "overflow_y": null,
            "overflow_x": null,
            "grid_auto_flow": null,
            "grid_area": null,
            "grid_template_columns": null,
            "flex": null,
            "_model_name": "LayoutModel",
            "justify_items": null,
            "grid_row": null,
            "max_height": null,
            "align_content": null,
            "visibility": null,
            "align_self": null,
            "height": null,
            "min_height": null,
            "padding": null,
            "grid_auto_rows": null,
            "grid_gap": null,
            "max_width": null,
            "order": null,
            "_view_module_version": "1.2.0",
            "grid_template_areas": null,
            "object_position": null,
            "object_fit": null,
            "grid_auto_columns": null,
            "margin": null,
            "display": null,
            "left": null
          }
        },
        "c34c7e0cde80415a9188ee55a7f097c5": {
          "model_module": "@jupyter-widgets/controls",
          "model_name": "DescriptionStyleModel",
          "state": {
            "_view_name": "StyleView",
            "_model_name": "DescriptionStyleModel",
            "description_width": "",
            "_view_module": "@jupyter-widgets/base",
            "_model_module_version": "1.5.0",
            "_view_count": null,
            "_view_module_version": "1.2.0",
            "_model_module": "@jupyter-widgets/controls"
          }
        },
        "d8a1519ff21e4069af91e30c2bc11aab": {
          "model_module": "@jupyter-widgets/base",
          "model_name": "LayoutModel",
          "state": {
            "_view_name": "LayoutView",
            "grid_template_rows": null,
            "right": null,
            "justify_content": null,
            "_view_module": "@jupyter-widgets/base",
            "overflow": null,
            "_model_module_version": "1.2.0",
            "_view_count": null,
            "flex_flow": null,
            "width": null,
            "min_width": null,
            "border": null,
            "align_items": null,
            "bottom": null,
            "_model_module": "@jupyter-widgets/base",
            "top": null,
            "grid_column": null,
            "overflow_y": null,
            "overflow_x": null,
            "grid_auto_flow": null,
            "grid_area": null,
            "grid_template_columns": null,
            "flex": null,
            "_model_name": "LayoutModel",
            "justify_items": null,
            "grid_row": null,
            "max_height": null,
            "align_content": null,
            "visibility": null,
            "align_self": null,
            "height": null,
            "min_height": null,
            "padding": null,
            "grid_auto_rows": null,
            "grid_gap": null,
            "max_width": null,
            "order": null,
            "_view_module_version": "1.2.0",
            "grid_template_areas": null,
            "object_position": null,
            "object_fit": null,
            "grid_auto_columns": null,
            "margin": null,
            "display": null,
            "left": null
          }
        }
      }
    }
  },
  "cells": [
    {
      "cell_type": "code",
      "metadata": {
        "id": "WJPTUdwAfXtP",
        "colab_type": "code",
        "colab": {}
      },
      "source": [
        "!pip install foolbox==2.4.0\n"
      ],
      "execution_count": null,
      "outputs": []
    },
    {
      "cell_type": "code",
      "metadata": {
        "id": "Uo0pbm5yrjsJ",
        "colab_type": "code",
        "colab": {
          "base_uri": "https://localhost:8080/",
          "height": 34
        },
        "outputId": "2c910acf-32de-4d23-af67-01dafa1ad1e0"
      },
      "source": [
        "%tensorflow_version 1.x"
      ],
      "execution_count": 2,
      "outputs": [
        {
          "output_type": "stream",
          "text": [
            "TensorFlow 1.x selected.\n"
          ],
          "name": "stdout"
        }
      ]
    },
    {
      "cell_type": "code",
      "metadata": {
        "id": "7bvPweVUfswp",
        "colab_type": "code",
        "colab": {}
      },
      "source": [
        "from foolbox import zoo\n",
        "%tensorflow_version 1.x\n",
        "\n",
        "# download the model\n",
        "model = zoo.get_model(url=\"https://github.com/bethgelab/cifar10_challenge\")"
      ],
      "execution_count": null,
      "outputs": []
    },
    {
      "cell_type": "code",
      "metadata": {
        "id": "Doteja7b2Kjm",
        "colab_type": "code",
        "colab": {
          "base_uri": "https://localhost:8080/",
          "height": 83,
          "referenced_widgets": [
            "26d5b428825b49dfaefb9849acd66c83",
            "aa2d6925d2ec468e9174c3f9578a59ef",
            "838feff6f51044209af1fc8b7fc55f56",
            "26007d95bca34c7aa53608d84adb3144",
            "05d15b07e0f545c1b89dfa13c93bbfec",
            "5b816b88a0e54f6894918591ac8aaa02",
            "c34c7e0cde80415a9188ee55a7f097c5",
            "d8a1519ff21e4069af91e30c2bc11aab"
          ]
        },
        "outputId": "a548df02-3993-4a63-a4c4-da5b90172141"
      },
      "source": [
        "import torch\n",
        "import torchvision\n",
        "import torchvision.transforms as transforms\n",
        "\n",
        "transform = transforms.Compose(\n",
        "    [transforms.ToTensor()])\n",
        "\n",
        "testset = torchvision.datasets.CIFAR10(root='./data', train=False,\n",
        "                                       download=True, transform=transform)\n",
        "testloader = torch.utils.data.DataLoader(testset, batch_size=1,\n",
        "                                         shuffle=True, num_workers=2)"
      ],
      "execution_count": 212,
      "outputs": [
        {
          "output_type": "stream",
          "text": [
            "Downloading https://www.cs.toronto.edu/~kriz/cifar-10-python.tar.gz to ./data/cifar-10-python.tar.gz\n"
          ],
          "name": "stdout"
        },
        {
          "output_type": "display_data",
          "data": {
            "application/vnd.jupyter.widget-view+json": {
              "model_id": "26d5b428825b49dfaefb9849acd66c83",
              "version_minor": 0,
              "version_major": 2
            },
            "text/plain": [
              "HBox(children=(FloatProgress(value=1.0, bar_style='info', max=1.0), HTML(value='')))"
            ]
          },
          "metadata": {
            "tags": []
          }
        },
        {
          "output_type": "stream",
          "text": [
            "Extracting ./data/cifar-10-python.tar.gz to ./data\n"
          ],
          "name": "stdout"
        }
      ]
    },
    {
      "cell_type": "code",
      "metadata": {
        "id": "5ktpEcVX8rV-",
        "colab_type": "code",
        "colab": {}
      },
      "source": [
        "!rm -rf data"
      ],
      "execution_count": 211,
      "outputs": []
    },
    {
      "cell_type": "code",
      "metadata": {
        "id": "k4yf_lbuGPOy",
        "colab_type": "code",
        "colab": {
          "base_uri": "https://localhost:8080/",
          "height": 153
        },
        "outputId": "5399c72c-90dc-4c48-c7aa-5201c910d0cc"
      },
      "source": [
        "attack = foolbox.attacks.FGSM(model, distance=foolbox.distances.MeanSquaredDistance)\n",
        "dataiter = iter(testloader)\n",
        "\n",
        "orig_images = []\n",
        "orig_labels = []\n",
        "\n",
        "for i in range(10):\n",
        "  image,label = dataiter.next()\n",
        "  image = image.numpy()\n",
        "  image = np.transpose(image,(0,2,3,1))\n",
        "  image = image.reshape(32,32,3)\n",
        "  orig_images.append(image)\n",
        "  orig_labels.append(label.numpy()[0])\n",
        "  \n",
        "orig_images = np.array(orig_images)\n",
        "orig_labels = np.array(orig_labels)\n",
        "\n",
        "print (\"Running Attack\")\n",
        "start_time = time.time()\n",
        "\n",
        "# orig_images, orig_labels = foolbox.utils.samples(dataset='cifar10',batchsize=20, data_format='channels_last',bounds=(0,1))\n",
        "adversarials = attack(orig_images, orig_labels, unpack=False)\n",
        "\n",
        "end_time = time.time() - start_time\n",
        "print (\"Time taken: %.2f\"%end_time)\n",
        "\n",
        "adversarial_classes = np.asarray([a.adversarial_class for a in adversarials])\n",
        "print(orig_labels)\n",
        "print(adversarial_classes)\n",
        "\n",
        "distances = np.asarray([a.distance.value for a in adversarials])\n",
        "print(\"{:.1e}, {:.1e}, {:.1e}\".format(distances.min(), np.median(distances), distances.max()))\n",
        "print(\"{} of {} attacks failed\".format(sum(adv.distance.value == np.inf for adv in adversarials), len(adversarials)))\n",
        "print(\"{} of {} inputs misclassified without perturbation\".format(sum(adv.distance.value == 0 for adv in adversarials), len(adversarials)))\n",
        "\n",
        "\n",
        "# print (\"Running Attack\")\n",
        "# start_time = time.time()\n",
        "# attack = foolbox.attacks.FGSM(model, distance=foolbox.distances.MeanSquaredDistance)\n",
        "# adversarials = attack(orig_images, orig_labels)\n",
        "# end_time = time.time() - start_time\n",
        "\n",
        "# print (\"Time taken: %.2f\"%end_time)\n"
      ],
      "execution_count": 201,
      "outputs": [
        {
          "output_type": "stream",
          "text": [
            "[8 2 7 3 1 3 5 6 4 5]\n",
            "Running Attack\n",
            "Time taken: 361.82\n",
            "[8 2 7 3 1 3 5 6 4 5]\n",
            "[7 4 8 2 8 4 3 4 6 3]\n",
            "0.0e+00, 1.9e-09, 2.5e-08\n",
            "0 of 10 attacks failed\n",
            "2 of 10 inputs misclassified without perturbation\n"
          ],
          "name": "stdout"
        }
      ]
    },
    {
      "cell_type": "code",
      "metadata": {
        "id": "6O5MQK5FYQdM",
        "colab_type": "code",
        "colab": {
          "base_uri": "https://localhost:8080/",
          "height": 51
        },
        "outputId": "9ae65282-aec5-4c64-da9f-5357d1488b1d"
      },
      "source": [
        "attack = foolbox.v1.attacks.LBFGSAttack(model, distance=foolbox.distances.MeanSquaredDistance)\n",
        "dataiter = iter(testloader)\n",
        "\n",
        "advs = []\n",
        "\n",
        "print (\"Running Attack\")\n",
        "start_time = time.time()\n",
        "for i in range(1):\n",
        "  image,label = dataiter.next()\n",
        "  image = image.numpy()\n",
        "  image = np.transpose(image,(0,2,3,1))\n",
        "  image = image.reshape(32,32,3)\n",
        "  label = label.numpy()[0]\n",
        "  advs.append(attack(image, label))\n",
        "  \n",
        "# orig_images = np.array(orig_images)\n",
        "# orig_labels = np.array(orig_labels)\n",
        "end_time = time.time() - start_time\n",
        "print (\"Time taken: %.2f\"%end_time)\n",
        "\n",
        "\n",
        "# print (\"Running Attack\")\n",
        "# start_time = time.time()\n",
        "# attack = foolbox.attacks.FGSM(model, distance=foolbox.distances.MeanSquaredDistance)\n",
        "# adversarials = attack(orig_images, orig_labels)\n",
        "# end_time = time.time() - start_time\n",
        "\n",
        "# print (\"Time taken: %.2f\"%end_time)"
      ],
      "execution_count": 215,
      "outputs": [
        {
          "output_type": "stream",
          "text": [
            "Running Attack\n",
            "Time taken: 20.16\n"
          ],
          "name": "stdout"
        }
      ]
    },
    {
      "cell_type": "code",
      "metadata": {
        "id": "6bQklRVk3haJ",
        "colab_type": "code",
        "colab": {
          "base_uri": "https://localhost:8080/",
          "height": 34
        },
        "outputId": "d6b8cf2a-fd6b-4403-b08d-340032e4fbd6"
      },
      "source": [
        "attack = foolbox.v1.attacks.FGSM(model, distance=foolbox.distances.MeanSquaredDistance)\n",
        "dataiter = iter(testloader)\n",
        "image,label = dataiter.next()\n",
        "\n",
        "for i in range (1):\n",
        "  image,label = dataiter.next()\n",
        "  image = image.numpy()\n",
        "  label = label.numpy()[0]\n",
        "  print (label)\n",
        "  image = np.transpose(image,(0,2,3,1))\n",
        "  image = image.reshape(32,32,3)\n",
        "  adversarials = attack(image, label)\n",
        "  advs.append(adversarials)\n",
        "  \n",
        "\n"
      ],
      "execution_count": 202,
      "outputs": [
        {
          "output_type": "stream",
          "text": [
            "6\n"
          ],
          "name": "stdout"
        }
      ]
    }
  ]
}
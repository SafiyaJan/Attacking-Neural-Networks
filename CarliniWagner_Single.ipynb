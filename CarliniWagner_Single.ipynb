{
  "nbformat": 4,
  "nbformat_minor": 0,
  "metadata": {
    "kernelspec": {
      "display_name": "Python 3",
      "language": "python",
      "name": "python3"
    },
    "language_info": {
      "codemirror_mode": {
        "name": "ipython",
        "version": 3
      },
      "file_extension": ".py",
      "mimetype": "text/x-python",
      "name": "python",
      "nbconvert_exporter": "python",
      "pygments_lexer": "ipython3",
      "version": "3.8.1"
    },
    "colab": {
      "name": "CarliniWagner_Single.ipynb",
      "provenance": []
    },
    "accelerator": "GPU"
  },
  "cells": [
    {
      "cell_type": "code",
      "metadata": {
        "id": "gNBIvbJHx46u",
        "colab_type": "code",
        "colab": {
          "base_uri": "https://localhost:8080/",
          "height": 479
        },
        "outputId": "41ceced7-075b-41df-c4a1-f73a7d439bb9"
      },
      "source": [
        "!pip install foolbox==2.3.0"
      ],
      "execution_count": 4,
      "outputs": [
        {
          "output_type": "stream",
          "text": [
            "Collecting foolbox==2.3.0\n",
            "\u001b[?25l  Downloading https://files.pythonhosted.org/packages/0a/3f/cee46491ba9546d8c7bf14e18a4ecbdae411ca3d2e2ccdb227aad6de1782/foolbox-2.3.0.tar.gz (1.9MB)\n",
            "\u001b[K     |████████████████████████████████| 1.9MB 8.7MB/s \n",
            "\u001b[?25hRequirement already satisfied: numpy in /usr/local/lib/python3.6/dist-packages (from foolbox==2.3.0) (1.18.5)\n",
            "Requirement already satisfied: scipy in /usr/local/lib/python3.6/dist-packages (from foolbox==2.3.0) (1.4.1)\n",
            "Requirement already satisfied: setuptools in /usr/local/lib/python3.6/dist-packages (from foolbox==2.3.0) (49.2.0)\n",
            "Requirement already satisfied: requests in /usr/local/lib/python3.6/dist-packages (from foolbox==2.3.0) (2.23.0)\n",
            "Collecting GitPython\n",
            "\u001b[?25l  Downloading https://files.pythonhosted.org/packages/f9/1e/a45320cab182bf1c8656107b3d4c042e659742822fc6bff150d769a984dd/GitPython-3.1.7-py3-none-any.whl (158kB)\n",
            "\u001b[K     |████████████████████████████████| 163kB 49.0MB/s \n",
            "\u001b[?25hRequirement already satisfied: idna<3,>=2.5 in /usr/local/lib/python3.6/dist-packages (from requests->foolbox==2.3.0) (2.10)\n",
            "Requirement already satisfied: urllib3!=1.25.0,!=1.25.1,<1.26,>=1.21.1 in /usr/local/lib/python3.6/dist-packages (from requests->foolbox==2.3.0) (1.24.3)\n",
            "Requirement already satisfied: certifi>=2017.4.17 in /usr/local/lib/python3.6/dist-packages (from requests->foolbox==2.3.0) (2020.6.20)\n",
            "Requirement already satisfied: chardet<4,>=3.0.2 in /usr/local/lib/python3.6/dist-packages (from requests->foolbox==2.3.0) (3.0.4)\n",
            "Collecting gitdb<5,>=4.0.1\n",
            "\u001b[?25l  Downloading https://files.pythonhosted.org/packages/48/11/d1800bca0a3bae820b84b7d813ad1eff15a48a64caea9c823fc8c1b119e8/gitdb-4.0.5-py3-none-any.whl (63kB)\n",
            "\u001b[K     |████████████████████████████████| 71kB 9.7MB/s \n",
            "\u001b[?25hCollecting smmap<4,>=3.0.1\n",
            "  Downloading https://files.pythonhosted.org/packages/b0/9a/4d409a6234eb940e6a78dfdfc66156e7522262f5f2fecca07dc55915952d/smmap-3.0.4-py2.py3-none-any.whl\n",
            "Building wheels for collected packages: foolbox\n",
            "  Building wheel for foolbox (setup.py) ... \u001b[?25l\u001b[?25hdone\n",
            "  Created wheel for foolbox: filename=foolbox-2.3.0-cp36-none-any.whl size=1926237 sha256=c695bbe3e81b9413e339b7de8b8ee1a3690800f736ffad398563fc915ebab293\n",
            "  Stored in directory: /root/.cache/pip/wheels/3a/e4/a4/b6a9e61a9729c442383d774328091f69d9235268401a1c9524\n",
            "Successfully built foolbox\n",
            "Installing collected packages: smmap, gitdb, GitPython, foolbox\n",
            "Successfully installed GitPython-3.1.7 foolbox-2.3.0 gitdb-4.0.5 smmap-3.0.4\n"
          ],
          "name": "stdout"
        }
      ]
    },
    {
      "cell_type": "code",
      "metadata": {
        "id": "2hOhTc_yxlcq",
        "colab_type": "code",
        "colab": {}
      },
      "source": [
        "import foolbox\n",
        "import numpy as np\n",
        "import torch\n",
        "import torchvision.models as models\n",
        "from PIL import Image\n",
        "import torchvision.transforms as transforms\n",
        "from torch.autograd import Variable\n",
        "from scipy.special import softmax\n",
        "import cv2\n",
        "import tensorflow as tf\n",
        "import matplotlib.pyplot as plt\n",
        "import os\n",
        "import time \n"
      ],
      "execution_count": 5,
      "outputs": []
    },
    {
      "cell_type": "code",
      "metadata": {
        "id": "XJb0WZ1exlcw",
        "colab_type": "code",
        "colab": {}
      },
      "source": [
        "# preprocess original image \n",
        "def preprocess_orig_image(image):\n",
        "\n",
        "    im_orig = Image.open(image)\n",
        "    im = transforms.Compose([\n",
        "        transforms.Resize(256),\n",
        "        transforms.CenterCrop(224),\n",
        "        transforms.ToTensor()])(im_orig)\n",
        "    im = im.reshape(3,224,224)\n",
        "    return im\n",
        "\n",
        "# create foolbox model given the PyTorch model\n",
        "def test_model(model):\n",
        "    model = model.eval()\n",
        "    preprocessing = dict(mean=[0.485, 0.456, 0.406], std=[0.229, 0.224, 0.225], axis=-3)\n",
        "    fmodel = foolbox.models.PyTorchModel(model, bounds=(0, 1), num_classes=1000, preprocessing=preprocessing)\n",
        "    return fmodel\n",
        "\n",
        "\n",
        "def get_labels(label_orig, label_pert):\n",
        "\n",
        "    labels = open(os.path.join('synset_words.txt'), 'r').read().split('\\n')\n",
        "\n",
        "    str_label_orig = labels[np.int(label_orig)].split(',')[0]\n",
        "    str_label_pert = labels[np.int(label_pert)].split(',')[0]\n",
        "    \n",
        "    return str_label_orig,str_label_pert\n",
        "\n",
        "\n",
        "# comptute the cosine similarity between 2 original image and adversarial image\n",
        "def calculate_cossim(orig,pert):\n",
        "\n",
        "    original_image = orig.flatten()\n",
        "    perturbed_image = pert.flatten()\n",
        "\n",
        "    dot_product = np.dot(original_image, perturbed_image)\n",
        "    norm_a = np.linalg.norm(original_image)\n",
        "    norm_b = np.linalg.norm(perturbed_image)\n",
        "    cossimi = ((dot_product / (norm_a * norm_b)))\n",
        "    return cossimi\n",
        "\n",
        "\n",
        "def mse(imageA, imageB):\n",
        "    # the 'Mean Squared Error' between the two images is the\n",
        "    # sum of the squared difference between the two images;\n",
        "    # NOTE: the two images must have the same dimension\n",
        "    err = np.sum((imageA.astype(\"float\") - imageB.astype(\"float\")) ** 2)\n",
        "    err /= float(imageA.shape[0] * imageA.shape[1])\n",
        "\n",
        "    # return the MSE, the lower the error, the more \"similar\"\n",
        "    # the two images are\n",
        "    return err"
      ],
      "execution_count": 6,
      "outputs": []
    },
    {
      "cell_type": "code",
      "metadata": {
        "id": "tdM3Zi25xlc4",
        "colab_type": "code",
        "colab": {
          "base_uri": "https://localhost:8080/",
          "height": 102
        },
        "outputId": "7d403901-0edf-4f7f-b7c7-d532345f5aa2"
      },
      "source": [
        "model = models.inception_v3(pretrained=True) \n",
        "fmodel = test_model(model)\n",
        "image = preprocess_orig_image(\"test_im1.jpg\")\n",
        "image = image.numpy()\n",
        "\n",
        "image_label = np.argmax(fmodel.forward_one(image))\n",
        "orig_confidence = np.amax(foolbox.utils.softmax(fmodel.forward_one(image)))\n",
        "\n",
        "print (\"Starting Attack\")\n",
        "start_time = time.time()\n",
        "attack = foolbox.v1.attacks.CarliniWagnerL2Attack(fmodel)\n",
        "adversarial = attack(image, image_label)\n",
        "end_time = time.time() - start_time\n",
        "print (\"Attack Ended\")\n",
        "\n",
        "advs_label = np.argmax(fmodel.forward_one(adversarial))\n",
        "advs_confidence = np.amax(foolbox.utils.softmax(fmodel.forward_one(adversarial)))\n",
        "\n",
        "str_label_orig,str_label_advs = get_labels(image_label,advs_label)\n",
        "\n",
        "\n",
        "print (\"Actual Label:\", str_label_orig, \"(Confidence: %.2f%%) \" % (orig_confidence*100))\n",
        "print (\"Predicted Label:\", str_label_advs, \"(Confidence: %.2f%%) \" % (advs_confidence*100))\n",
        "print (\"Time Taken: %.2f\" % end_time)\n"
      ],
      "execution_count": 10,
      "outputs": [
        {
          "output_type": "stream",
          "text": [
            "Starting Attack\n",
            "Attack Ended\n",
            "Actual Label: n01818515 macaw (Confidence: 100.00%) \n",
            "Predicted Label: n01817953 African grey (Confidence: 50.55%) \n",
            "Time Taken: 105.12\n"
          ],
          "name": "stdout"
        }
      ]
    },
    {
      "cell_type": "code",
      "metadata": {
        "scrolled": true,
        "id": "agFB2SMaxlc9",
        "colab_type": "code",
        "colab": {
          "base_uri": "https://localhost:8080/",
          "height": 51
        },
        "outputId": "6ed0ebf7-0d91-40ac-acc2-9bcf94a45418"
      },
      "source": [
        "# print (adversarial)\n",
        "\n",
        "orig = np.transpose(image, (1, 2, 0))\n",
        "pert = np.transpose(adversarial, (1, 2, 0))\n",
        "print (mse(orig,pert))\n",
        "print (calculate_cossim(orig,pert))"
      ],
      "execution_count": 11,
      "outputs": [
        {
          "output_type": "stream",
          "text": [
            "1.0573179157581013e-05\n",
            "0.9999934\n"
          ],
          "name": "stdout"
        }
      ]
    },
    {
      "cell_type": "code",
      "metadata": {
        "id": "siWasu_rxldC",
        "colab_type": "code",
        "colab": {}
      },
      "source": [
        ""
      ],
      "execution_count": 8,
      "outputs": []
    }
  ]
}